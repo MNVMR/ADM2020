{
 "cells": [
  {
   "cell_type": "code",
   "execution_count": null,
   "metadata": {},
   "outputs": [],
   "source": [
    "#Say \"Hello, World!\" With Python"
   ]
  },
  {
   "cell_type": "markdown",
   "metadata": {},
   "source": [
    "a = \"Hello, World!\"\n",
    "print(a)"
   ]
  },
  {
   "cell_type": "code",
   "execution_count": null,
   "metadata": {},
   "outputs": [],
   "source": [
    "#Python If-Else"
   ]
  },
  {
   "cell_type": "code",
   "execution_count": 114,
   "metadata": {},
   "outputs": [],
   "source": [
    "def is_weird(n):\n",
    "    weird = \"Weird\"\n",
    "    noweird = \"Not Weird\"\n",
    "    if n%2!=0: return weird\n",
    "    if n in range(2,5): return noweird\n",
    "    if n in range(6,21): return weird\n",
    "    return noweird"
   ]
  },
  {
   "cell_type": "code",
   "execution_count": 117,
   "metadata": {},
   "outputs": [],
   "source": [
    "#Loops"
   ]
  },
  {
   "cell_type": "code",
   "execution_count": null,
   "metadata": {},
   "outputs": [],
   "source": [
    "if __name__ == '__main__':\n",
    "    n = int(input())\n",
    "    i=0\n",
    "while i<n:\n",
    "    print(i*i)\n",
    "    i=i+1"
   ]
  },
  {
   "cell_type": "code",
   "execution_count": 118,
   "metadata": {},
   "outputs": [],
   "source": [
    "#Print Function"
   ]
  },
  {
   "cell_type": "code",
   "execution_count": null,
   "metadata": {},
   "outputs": [],
   "source": [
    "if __name__ == '__main__':\n",
    "    n = int(input())\n",
    "i=1\n",
    "while i<=n:\n",
    "    print(i, sep='', end='')\n",
    "    i=i+1"
   ]
  },
  {
   "cell_type": "code",
   "execution_count": null,
   "metadata": {},
   "outputs": [],
   "source": [
    "#Write a function"
   ]
  },
  {
   "cell_type": "code",
   "execution_count": null,
   "metadata": {},
   "outputs": [],
   "source": [
    "def is_leap(year):\n",
    "    leap = True\n",
    "    noleap = False\n",
    "    if year%4==0:\n",
    "        if year%100==0:\n",
    "            if year%400==0:\n",
    "                return leap\n",
    "            else: return noleap\n",
    "        else: return leap\n",
    "    else: return noleap"
   ]
  },
  {
   "cell_type": "code",
   "execution_count": null,
   "metadata": {},
   "outputs": [],
   "source": [
    "#List Comprehensions"
   ]
  },
  {
   "cell_type": "code",
   "execution_count": null,
   "metadata": {},
   "outputs": [],
   "source": [
    "if __name__ == '__main__':\n",
    "    x = int ( input())\n",
    "    y = int ( input())\n",
    "    z = int ( input())\n",
    "    n = int ( input())\n",
    "\n",
    "print ([ [ i, j, k] for i in range( x + 1) for j in range( y + 1) for k in range( z + 1) if ( ( i + j + k ) != n )])"
   ]
  },
  {
   "cell_type": "code",
   "execution_count": null,
   "metadata": {},
   "outputs": [],
   "source": [
    "#sWAP cASE"
   ]
  },
  {
   "cell_type": "code",
   "execution_count": null,
   "metadata": {},
   "outputs": [],
   "source": [
    "def swap_case(s):\n",
    "    return s.swapcase()"
   ]
  },
  {
   "cell_type": "code",
   "execution_count": null,
   "metadata": {},
   "outputs": [],
   "source": [
    "#String Split and Join"
   ]
  },
  {
   "cell_type": "code",
   "execution_count": null,
   "metadata": {},
   "outputs": [],
   "source": [
    "def split_and_join(line):\n",
    "    line = line.split(\" \")\n",
    "    line = \"-\".join(line)\n",
    "    return line # write your code here"
   ]
  },
  {
   "cell_type": "code",
   "execution_count": null,
   "metadata": {},
   "outputs": [],
   "source": [
    "#What's Your Name?"
   ]
  },
  {
   "cell_type": "code",
   "execution_count": null,
   "metadata": {},
   "outputs": [],
   "source": [
    "def print_full_name(a, b):\n",
    "    print(\"Hello \"+a+\" \"+b+\"! You just delved into python.\")"
   ]
  },
  {
   "cell_type": "code",
   "execution_count": null,
   "metadata": {},
   "outputs": [],
   "source": [
    "#Mutations"
   ]
  },
  {
   "cell_type": "code",
   "execution_count": null,
   "metadata": {},
   "outputs": [],
   "source": [
    "def mutate_string(string, position, character):\n",
    "    string = string[:position] + character + string[position+1:]\n",
    "    return string"
   ]
  },
  {
   "cell_type": "code",
   "execution_count": null,
   "metadata": {},
   "outputs": [],
   "source": [
    "#Find a string"
   ]
  },
  {
   "cell_type": "code",
   "execution_count": null,
   "metadata": {},
   "outputs": [],
   "source": [
    "def count_substring(string, sub_string):\n",
    "    sbl=len(sub_string)\n",
    "    count=0\n",
    "    for i in range(len(string)):\n",
    "         if string[i:i+sbl]==sub_string:count=count+1\n",
    "    return count"
   ]
  },
  {
   "cell_type": "code",
   "execution_count": null,
   "metadata": {},
   "outputs": [],
   "source": [
    "#Text Alignment"
   ]
  },
  {
   "cell_type": "code",
   "execution_count": null,
   "metadata": {},
   "outputs": [],
   "source": [
    "thickness = int(input()) #This must be an odd number\n",
    "c = 'H'\n",
    "#Top Cone\n",
    "for i in range(thickness):\n",
    "    print((c*i).rjust(thickness-1)+c+(c*i).ljust(thickness-1))\n",
    "\n",
    "#Top Pillars\n",
    "for i in range(thickness+1):\n",
    "    print((c*thickness).center(thickness*2)+(c*thickness).center(thickness*6))\n",
    "\n",
    "#Middle Belt\n",
    "for i in range((thickness+1)//2):\n",
    "    print((c*thickness*5).center(thickness*6))\n",
    "\n",
    "#Bottom Pillars\n",
    "for i in range(thickness+1):\n",
    "    print((c*thickness).center(thickness*2)+(c*thickness).center(thickness*6))\n",
    "\n",
    "#Bottom Cone\n",
    "for i in range(thickness):\n",
    "    print(((c*(thickness-i-1)).rjust(thickness)+c+(c*(thickness-i-1)).ljust(thickness)).rjust(thickness*6))"
   ]
  },
  {
   "cell_type": "code",
   "execution_count": null,
   "metadata": {},
   "outputs": [],
   "source": [
    "#Text Wrap"
   ]
  },
  {
   "cell_type": "code",
   "execution_count": null,
   "metadata": {},
   "outputs": [],
   "source": [
    "def is_leap(year):\n",
    "    leap = True\n",
    "    noleap = False\n",
    "    if year%4==0:\n",
    "        if year%100==0:\n",
    "            if year%400==0:\n",
    "                return leap\n",
    "            else: return noleap\n",
    "        else: return leap\n",
    "    else: return noleap"
   ]
  },
  {
   "cell_type": "code",
   "execution_count": null,
   "metadata": {},
   "outputs": [],
   "source": [
    "#Capitalize!"
   ]
  },
  {
   "cell_type": "code",
   "execution_count": null,
   "metadata": {},
   "outputs": [],
   "source": [
    "def solve(s):\n",
    "    s = s.split(' ')\n",
    "    for i in range(len(s)):\n",
    "        s[i] = s[i].capitalize()\n",
    "    s = \" \".join(s)\n",
    "    return s"
   ]
  },
  {
   "cell_type": "code",
   "execution_count": null,
   "metadata": {},
   "outputs": [],
   "source": [
    "#Merge the Tools!"
   ]
  },
  {
   "cell_type": "code",
   "execution_count": null,
   "metadata": {},
   "outputs": [],
   "source": [
    "from collections import OrderedDict\n",
    "def merge_the_tools(string, k):\n",
    "    n = len(string)\n",
    "    i=0\n",
    "    while i < n:\n",
    "        print (\"\".join(OrderedDict.fromkeys(string[i:(i+k)])))\n",
    "        i=i+k"
   ]
  },
  {
   "cell_type": "code",
   "execution_count": null,
   "metadata": {},
   "outputs": [],
   "source": [
    "#Introduction to Sets"
   ]
  },
  {
   "cell_type": "code",
   "execution_count": null,
   "metadata": {},
   "outputs": [],
   "source": [
    "def average(array):\n",
    "    return sum(set(array))/len(set(array))"
   ]
  },
  {
   "cell_type": "code",
   "execution_count": null,
   "metadata": {},
   "outputs": [],
   "source": [
    "#Set .union() Operation"
   ]
  },
  {
   "cell_type": "code",
   "execution_count": null,
   "metadata": {},
   "outputs": [],
   "source": [
    "n = int(input())\n",
    "E = set(map(int, input().split()))\n",
    "m = int(input())\n",
    "F = set(map(int, input().split()))\n",
    "\n",
    "print(len(E)+len(F)-len(E&F))"
   ]
  },
  {
   "cell_type": "code",
   "execution_count": null,
   "metadata": {},
   "outputs": [],
   "source": [
    "#Symmetric Difference"
   ]
  },
  {
   "cell_type": "code",
   "execution_count": null,
   "metadata": {},
   "outputs": [],
   "source": [
    "if __name__ == '__main__':\n",
    "    m = int(input())\n",
    "    A = set(list(map(int, input().split())))\n",
    "    n = int(input())\n",
    "    B = set(list(map(int, input().split())))\n",
    "    list = sorted(list(A.symmetric_difference(B)))\n",
    "    for i in list:\n",
    "        print(i)"
   ]
  },
  {
   "cell_type": "code",
   "execution_count": null,
   "metadata": {},
   "outputs": [],
   "source": [
    "#Find the Runner-Up Score!"
   ]
  },
  {
   "cell_type": "code",
   "execution_count": null,
   "metadata": {},
   "outputs": [],
   "source": [
    "if __name__ == '__main__':\n",
    "    n = int(input())\n",
    "    arr = set(list(map(int, input().split())))\n",
    "    if len(arr)>1 : arr.remove(max(arr))\n",
    "    print(max(arr))"
   ]
  },
  {
   "cell_type": "code",
   "execution_count": null,
   "metadata": {},
   "outputs": [],
   "source": [
    "#Finding the percentage"
   ]
  },
  {
   "cell_type": "code",
   "execution_count": null,
   "metadata": {},
   "outputs": [],
   "source": [
    "if __name__ == '__main__':\n",
    "    n = int(input())\n",
    "    sm = {}\n",
    "    for _ in range(n):\n",
    "        lst = list(input().split())\n",
    "        name = lst[0]\n",
    "        marks = list(map(float, lst[1:]))\n",
    "        sm[name] = marks\n",
    "    sn = input()\n",
    "    print(\"%0.2f\" %(sum(sm[sn])/len(sm[sn])))"
   ]
  },
  {
   "cell_type": "code",
   "execution_count": null,
   "metadata": {},
   "outputs": [],
   "source": [
    "#Lists"
   ]
  },
  {
   "cell_type": "code",
   "execution_count": null,
   "metadata": {},
   "outputs": [],
   "source": [
    "if __name__ == '__main__':\n",
    "    n = int(input())\n",
    "list = []\n",
    "for _ in range(n):\n",
    "    cmd = input().split()\n",
    "    if cmd[0] == \"print\": print(list)\n",
    "    elif cmd[0] == \"insert\": list.insert(int(cmd[1]),int(cmd[2]))\n",
    "    elif cmd[0] == \"remove\": list.remove(int(cmd[1]))\n",
    "    elif cmd[0] == \"append\": list.append(int(cmd[1]))\n",
    "    elif cmd[0] == \"sort\": list.sort()\n",
    "    elif cmd[0] == \"pop\": list.pop()\n",
    "    elif cmd[0] == \"reverse\": list.reverse()"
   ]
  },
  {
   "cell_type": "code",
   "execution_count": null,
   "metadata": {},
   "outputs": [],
   "source": [
    "#Tuples"
   ]
  },
  {
   "cell_type": "code",
   "execution_count": null,
   "metadata": {},
   "outputs": [],
   "source": [
    "if __name__ == '__main__':\n",
    "    n = int(input())\n",
    "    t = tuple(map(int, input().split()))\n",
    "    print(hash(t))"
   ]
  },
  {
   "cell_type": "code",
   "execution_count": null,
   "metadata": {},
   "outputs": [],
   "source": [
    "#String Validators"
   ]
  },
  {
   "cell_type": "code",
   "execution_count": null,
   "metadata": {},
   "outputs": [],
   "source": [
    "if __name__ == '__main__':\n",
    "    s = input()\n",
    "    l = list(s)\n",
    "    a=b=c=d=e=0\n",
    "    for i in range(0,len(s)):\n",
    "        if l[i].isalnum(): a=a+1\n",
    "        if l[i].isalpha(): b=b+1\n",
    "        if l[i].isdigit(): c=c+1\n",
    "        if l[i].islower(): d=d+1\n",
    "        if l[i].isupper(): e=e+1\n",
    "    if a!=0: print(True)\n",
    "    else: print(False)\n",
    "    if b!=0: print(True)\n",
    "    else: print(False)\n",
    "    if c!=0: print(True)\n",
    "    else: print(False)\n",
    "    if d!=0: print(True)\n",
    "    else: print(False)\n",
    "    if e!=0: print(True)\n",
    "    else: print(False)"
   ]
  },
  {
   "cell_type": "code",
   "execution_count": null,
   "metadata": {},
   "outputs": [],
   "source": [
    "#The Minion Game"
   ]
  },
  {
   "cell_type": "code",
   "execution_count": null,
   "metadata": {},
   "outputs": [],
   "source": [
    "def minion_game(string):\n",
    "    kevin = 0\n",
    "    stuart = 0\n",
    "    n = len(string)\n",
    "    for i in range(n):\n",
    "        l = string[i]\n",
    "        r = n - i\n",
    "        if l == \"A\" or l == \"E\" or l == \"I\" or l == \"O\" or l == \"U\":\n",
    "            kevin = kevin + r\n",
    "        else:\n",
    "            stuart = stuart + r\n",
    "    if kevin > stuart:\n",
    "        print(\"Kevin\", kevin)\n",
    "    elif kevin < stuart:\n",
    "        print(\"Stuart\", stuart)\n",
    "    elif kevin == stuart:\n",
    "        print(\"Draw\")"
   ]
  },
  {
   "cell_type": "code",
   "execution_count": null,
   "metadata": {},
   "outputs": [],
   "source": [
    "#Set .add()"
   ]
  },
  {
   "cell_type": "code",
   "execution_count": null,
   "metadata": {},
   "outputs": [],
   "source": [
    "n = int(input())\n",
    "A = set()\n",
    "for i in range(n):\n",
    "    A.add(input())\n",
    "print(len(A))\n",
    "\n",
    "#Set .discard(), .remove() & .pop()\n",
    "if __name__ == '__main__':\n",
    "    n = int(input())\n",
    "    B = set(map(int, input().split()))\n",
    "    m = int(input())\n",
    "    for i in range(m):\n",
    "        command = list(input().split())\n",
    "        cmd = command[0]\n",
    "        if len(command)>1: args = command[1]\n",
    "        else: args=\"\"\n",
    "        eval(\"B.\"+cmd+\"(\"+args+\")\")\n",
    "    print(sum(B))"
   ]
  },
  {
   "cell_type": "code",
   "execution_count": null,
   "metadata": {},
   "outputs": [],
   "source": [
    "#Set .discard(), .remove() & .pop()"
   ]
  },
  {
   "cell_type": "code",
   "execution_count": null,
   "metadata": {},
   "outputs": [],
   "source": [
    "if __name__ == '__main__':\n",
    "    n = int(input())\n",
    "    B = set(map(int, input().split()))\n",
    "    m = int(input())\n",
    "    for i in range(m):\n",
    "        command = list(input().split())\n",
    "        cmd = command[0]\n",
    "        if len(command)>1: args = command[1]\n",
    "        else: args=\"\"\n",
    "        eval(\"B.\"+cmd+\"(\"+args+\")\")\n",
    "    print(sum(B))"
   ]
  },
  {
   "cell_type": "code",
   "execution_count": null,
   "metadata": {},
   "outputs": [],
   "source": [
    "#Set .intersection() Operation"
   ]
  },
  {
   "cell_type": "code",
   "execution_count": null,
   "metadata": {},
   "outputs": [],
   "source": [
    "n = int(input())\n",
    "E = set(map(int, input().split()))\n",
    "m = int(input())\n",
    "F = set(map(int, input().split()))\n",
    "\n",
    "print(len(E&F))"
   ]
  },
  {
   "cell_type": "code",
   "execution_count": null,
   "metadata": {},
   "outputs": [],
   "source": [
    "#Set .difference() Operation"
   ]
  },
  {
   "cell_type": "code",
   "execution_count": null,
   "metadata": {},
   "outputs": [],
   "source": [
    "n = int(input())\n",
    "E = set(map(int, input().split()))\n",
    "m = int(input())\n",
    "F = set(map(int, input().split()))\n",
    "print(len(E-F))"
   ]
  },
  {
   "cell_type": "code",
   "execution_count": null,
   "metadata": {},
   "outputs": [],
   "source": [
    "#Set .symmetric_difference() Operation"
   ]
  },
  {
   "cell_type": "code",
   "execution_count": null,
   "metadata": {},
   "outputs": [],
   "source": [
    "n = int(input())\n",
    "E = set(map(int, input().split()))\n",
    "m = int(input())\n",
    "F = set(map(int, input().split()))\n",
    "print(len(E^F))"
   ]
  },
  {
   "cell_type": "code",
   "execution_count": null,
   "metadata": {},
   "outputs": [],
   "source": [
    "#Set Mutations"
   ]
  },
  {
   "cell_type": "code",
   "execution_count": null,
   "metadata": {},
   "outputs": [],
   "source": [
    "if __name__ == '__main__':\n",
    "    n = int(input())\n",
    "    A = set(map(int, input().split()))\n",
    "    m = int(input())\n",
    "    for i in range(m):\n",
    "        command = list(input().split())\n",
    "        B = str(set(map(int, input().split())))\n",
    "        eval(\"A.\"+command[0]+\"(\"+B+\")\")\n",
    "    print(sum(A))"
   ]
  },
  {
   "cell_type": "code",
   "execution_count": null,
   "metadata": {},
   "outputs": [],
   "source": [
    "#Check Subset"
   ]
  },
  {
   "cell_type": "code",
   "execution_count": null,
   "metadata": {},
   "outputs": [],
   "source": [
    "if __name__ == '__main__':\n",
    "    k = int(input())\n",
    "    for i in range(k):\n",
    "        n = int(input())\n",
    "        A = set(map(int, input().split()))\n",
    "        m = int(input())\n",
    "        B = set(map(int, input().split()))\n",
    "        print(A.issubset(B))"
   ]
  },
  {
   "cell_type": "code",
   "execution_count": null,
   "metadata": {},
   "outputs": [],
   "source": [
    "#Check Strict Superset"
   ]
  },
  {
   "cell_type": "code",
   "execution_count": null,
   "metadata": {},
   "outputs": [],
   "source": [
    "if __name__ == '__main__':\n",
    "    A = set(map(int, input().split()))\n",
    "    n = int(input())\n",
    "    for i in range(n):\n",
    "        B = set(map(int, input().split()))\n",
    "        if A.issuperset(B) and len(A)>len(B): k = 1\n",
    "        else:\n",
    "            print(\"False\")\n",
    "            k = 0\n",
    "            break\n",
    "    if k == 1:\n",
    "        print(\"True\")"
   ]
  },
  {
   "cell_type": "code",
   "execution_count": null,
   "metadata": {},
   "outputs": [],
   "source": [
    "#collections.Counter()"
   ]
  },
  {
   "cell_type": "code",
   "execution_count": null,
   "metadata": {},
   "outputs": [],
   "source": [
    "import collections\n",
    "revenue = 0\n",
    "n = int(input())\n",
    "a = collections.Counter(list(map(int, input().split())))\n",
    "m = int(input())\n",
    "for i in range(m):\n",
    "    var = list(map(int, input().split()))\n",
    "    if a[var[0]]!=0:\n",
    "        a[var[0]] -= 1\n",
    "        revenue+= var[1]\n",
    "print(revenue)"
   ]
  },
  {
   "cell_type": "code",
   "execution_count": null,
   "metadata": {},
   "outputs": [],
   "source": [
    "#DefaultDict Tutorial"
   ]
  },
  {
   "cell_type": "code",
   "execution_count": null,
   "metadata": {},
   "outputs": [],
   "source": [
    "from collections import defaultdict\n",
    "n = list(map(int, input().split()))\n",
    "d = defaultdict(list)\n",
    "b = defaultdict(str)\n",
    "for i in range(n[0]):\n",
    "    d[input()].append(i+1)\n",
    "for i in range(n[1]):\n",
    "    b[i] = input()\n",
    "for i in b:\n",
    "    v = d.get(b.get(i))\n",
    "    if v != None :\n",
    "        for k in d.get(b.get(i)):\n",
    "            print(k, end=\" \")\n",
    "        print(\"\")\n",
    "    else: print(\"-1\")"
   ]
  },
  {
   "cell_type": "code",
   "execution_count": null,
   "metadata": {},
   "outputs": [],
   "source": [
    "#Collections.namedtuple()"
   ]
  },
  {
   "cell_type": "code",
   "execution_count": null,
   "metadata": {},
   "outputs": [],
   "source": [
    "from collections import namedtuple\n",
    "n = int(input())\n",
    "std = namedtuple('std', input().split())\n",
    "marks=0\n",
    "for i in range(n):\n",
    "    marks += int((std._make(list(input().split()))).MARKS)\n",
    "print('%.2f' % (marks/n))"
   ]
  },
  {
   "cell_type": "code",
   "execution_count": null,
   "metadata": {},
   "outputs": [],
   "source": [
    "#Collections.OrderedDict()"
   ]
  },
  {
   "cell_type": "code",
   "execution_count": null,
   "metadata": {},
   "outputs": [],
   "source": [
    "from collections import OrderedDict\n",
    "dc = dict()\n",
    "od = OrderedDict()\n",
    "n = int(input())\n",
    "for _ in range(n):\n",
    "    ipt = list(input().split())\n",
    "    end = len(ipt) - 1\n",
    "    key = \" \".join(ipt[:end])\n",
    "    value = int(ipt[end])\n",
    "    od[key] = value\n",
    "    if key in dc:\n",
    "        dc[key].append(value)\n",
    "    else:\n",
    "        dc[key]=[value]\n",
    "for key in dc:\n",
    "    od[key]=dc[key]\n",
    "for key in od:\n",
    "    print(key, sum(od[key]))"
   ]
  },
  {
   "cell_type": "code",
   "execution_count": null,
   "metadata": {},
   "outputs": [],
   "source": [
    "#Collections.deque()"
   ]
  },
  {
   "cell_type": "code",
   "execution_count": null,
   "metadata": {},
   "outputs": [],
   "source": [
    "from collections import deque\n",
    "d = deque()\n",
    "n = int(input())\n",
    "for _ in range(n):\n",
    "    oper = list(input().split())\n",
    "    a = oper[0]\n",
    "    if len(oper)>1 :\n",
    "        b = oper[1]\n",
    "    else:\n",
    "        b = \"\"\n",
    "    eval(\"d.\"+a+\"(\"+str(b)+\")\")\n",
    "for i in d:\n",
    "    print(i, end=\" \")"
   ]
  },
  {
   "cell_type": "code",
   "execution_count": null,
   "metadata": {},
   "outputs": [],
   "source": [
    "#Piling Up!"
   ]
  },
  {
   "cell_type": "code",
   "execution_count": null,
   "metadata": {},
   "outputs": [],
   "source": [
    "from collections import deque\n",
    "T=int(input())\n",
    "for _ in range(T):\n",
    "    n = int(input())\n",
    "    r = n-1\n",
    "    l = 0\n",
    "    d = deque(map(int, input().split()))\n",
    "\n",
    "    while len(d)>2 :\n",
    "        r = len(d) - 1\n",
    "        if d[0] >= d[1] and d[0] >= d[r]:\n",
    "            d.popleft()\n",
    "        elif d[0] <= d[r] and d[r]>=d[r-1]:\n",
    "            d.pop()\n",
    "        else:\n",
    "            print(\"No\")\n",
    "            l=1\n",
    "            break\n",
    "    if l!=1: print(\"Yes\")"
   ]
  },
  {
   "cell_type": "code",
   "execution_count": null,
   "metadata": {},
   "outputs": [],
   "source": [
    "#Calendar Module"
   ]
  },
  {
   "cell_type": "code",
   "execution_count": null,
   "metadata": {},
   "outputs": [],
   "source": [
    "import calendar\n",
    "l=list(map(int, input().split()))\n",
    "w=['MONDAY','TUESDAY','WEDNESDAY','THURSDAY','FRIDAY','SATURDAY','SUNDAY']\n",
    "print(w[calendar.weekday(l[2], l[0], l[1])])"
   ]
  },
  {
   "cell_type": "code",
   "execution_count": null,
   "metadata": {},
   "outputs": [],
   "source": [
    "#Exceptions"
   ]
  },
  {
   "cell_type": "code",
   "execution_count": null,
   "metadata": {},
   "outputs": [],
   "source": [
    "n=int(input())\n",
    "for _ in range(n):\n",
    "    try:\n",
    "        a,b = map(int, input().split())\n",
    "        print(a//b)\n",
    "    except ZeroDivisionError as e:\n",
    "        print (\"Error Code:\",e)\n",
    "    except ValueError as e:\n",
    "        print (\"Error Code:\",e)"
   ]
  },
  {
   "cell_type": "code",
   "execution_count": null,
   "metadata": {},
   "outputs": [],
   "source": [
    "#Zipped!"
   ]
  },
  {
   "cell_type": "code",
   "execution_count": null,
   "metadata": {},
   "outputs": [],
   "source": [
    "nx = list(map(int, input().split()))\n",
    "X=nx[1]\n",
    "T=[]\n",
    "for _ in range(X):\n",
    "    T.append(list(map(float, input().split())))\n",
    "T = list(zip(*T))\n",
    "for i in T:\n",
    "    print(sum(i)/X)"
   ]
  },
  {
   "cell_type": "code",
   "execution_count": null,
   "metadata": {},
   "outputs": [],
   "source": [
    "#Athlete Sort"
   ]
  },
  {
   "cell_type": "code",
   "execution_count": null,
   "metadata": {},
   "outputs": [],
   "source": [
    "import math\n",
    "import os\n",
    "import random\n",
    "import re\n",
    "import sys\n",
    "from operator import itemgetter\n",
    "\n",
    "if __name__ == '__main__':\n",
    "    nm = input().split()\n",
    "\n",
    "    n = int(nm[0])\n",
    "\n",
    "    m = int(nm[1])\n",
    "\n",
    "    arr = []\n",
    "\n",
    "    for _ in range(n):\n",
    "        arr.append(list(map(int, input().rstrip().split())))\n",
    "    k = int(input())\n",
    "    arr.sort(key=itemgetter(k))\n",
    "    for i in arr:\n",
    "        i = \" \".join(map(str, i))\n",
    "        print(i)"
   ]
  },
  {
   "cell_type": "code",
   "execution_count": null,
   "metadata": {},
   "outputs": [],
   "source": [
    "#Map and Lambda Function"
   ]
  },
  {
   "cell_type": "code",
   "execution_count": null,
   "metadata": {},
   "outputs": [],
   "source": [
    "cube = lambda x: x*x*x# complete the lambda function\n",
    "\n",
    "def fibonacci(n):\n",
    "    fib = [0, 1, 1, 2, 3, 5, 8, 13, 21, 34, 55, 89, 144, 233, 377]\n",
    "    return fib[0:n]"
   ]
  },
  {
   "cell_type": "code",
   "execution_count": null,
   "metadata": {},
   "outputs": [],
   "source": [
    "#Arrays"
   ]
  },
  {
   "cell_type": "code",
   "execution_count": null,
   "metadata": {},
   "outputs": [],
   "source": [
    "def arrays(arr):\n",
    "    arr = list(arr)\n",
    "    arr.reverse()\n",
    "    arr = numpy.array(arr,float)\n",
    "    return arr"
   ]
  },
  {
   "cell_type": "code",
   "execution_count": null,
   "metadata": {},
   "outputs": [],
   "source": [
    "#Shape and Reshape"
   ]
  },
  {
   "cell_type": "code",
   "execution_count": null,
   "metadata": {},
   "outputs": [],
   "source": [
    "import numpy\n",
    "arr = numpy.array(list(input().strip().split(' ')),int)\n",
    "print(numpy.reshape(arr,(3,3)))"
   ]
  },
  {
   "cell_type": "code",
   "execution_count": null,
   "metadata": {},
   "outputs": [],
   "source": [
    "#Transpose and Flatten"
   ]
  },
  {
   "cell_type": "code",
   "execution_count": null,
   "metadata": {},
   "outputs": [],
   "source": [
    "import numpy\n",
    "\n",
    "nm = list(input().strip().split(' '))\n",
    "n = int(nm[0])\n",
    "arr = []\n",
    "for _ in range(n):\n",
    "    arr.append(numpy.array(list(input().strip().split(' ')),int))\n",
    "arr = numpy.array(arr)\n",
    "print(numpy.transpose(arr))\n",
    "print(arr.flatten())"
   ]
  },
  {
   "cell_type": "code",
   "execution_count": null,
   "metadata": {},
   "outputs": [],
   "source": [
    "#Concatenate"
   ]
  },
  {
   "cell_type": "code",
   "execution_count": null,
   "metadata": {},
   "outputs": [],
   "source": [
    "import numpy\n",
    "nmp = list(input().strip().split(' '))\n",
    "n = int(nmp[0])\n",
    "m = int(nmp[1])\n",
    "arr=[]\n",
    "for _ in range(n+m):\n",
    "    arr.append(numpy.array(list(input().strip().split(' ')),int))\n",
    "print(numpy.array(arr))"
   ]
  },
  {
   "cell_type": "code",
   "execution_count": null,
   "metadata": {},
   "outputs": [],
   "source": [
    "#Zeros and Ones"
   ]
  },
  {
   "cell_type": "code",
   "execution_count": null,
   "metadata": {},
   "outputs": [],
   "source": [
    "import numpy\n",
    "xyz=tuple(map(int,list(input().split())))\n",
    "print(numpy.zeros(xyz, dtype = numpy.int))\n",
    "print(numpy.ones(xyz, dtype = numpy.int))"
   ]
  },
  {
   "cell_type": "code",
   "execution_count": null,
   "metadata": {},
   "outputs": [],
   "source": [
    "#Eye and Identity"
   ]
  },
  {
   "cell_type": "code",
   "execution_count": null,
   "metadata": {},
   "outputs": [],
   "source": [
    "import numpy\n",
    "nm = list(map(int,list(input().split())))\n",
    "print(str(numpy.eye(nm[0],nm[1])).replace('1',' 1').replace('0',' 0'))"
   ]
  },
  {
   "cell_type": "code",
   "execution_count": null,
   "metadata": {},
   "outputs": [],
   "source": [
    "#Array Mathematics"
   ]
  },
  {
   "cell_type": "code",
   "execution_count": null,
   "metadata": {},
   "outputs": [],
   "source": [
    "import numpy\n",
    "nm = list(map(int,input().split()))\n",
    "n=nm[0]\n",
    "a=[]\n",
    "b=[]\n",
    "for _ in range(n):\n",
    "    a.append(numpy.array(input().split(),int))\n",
    "for _ in range(n):\n",
    "    b.append(numpy.array(input().split(),int))    \n",
    "a=numpy.array(a)\n",
    "b=numpy.array(b)\n",
    "op=['+','-','*','//','%','**']\n",
    "for i in op:\n",
    "    eval('print(a'+i+'b)')"
   ]
  },
  {
   "cell_type": "code",
   "execution_count": null,
   "metadata": {},
   "outputs": [],
   "source": [
    "#Floor, Ceil and Rint"
   ]
  },
  {
   "cell_type": "code",
   "execution_count": null,
   "metadata": {},
   "outputs": [],
   "source": [
    "import numpy\n",
    "arr = numpy.array(list(map(float,input().split())))\n",
    "op=['floor','ceil','rint']\n",
    "print(str(numpy.floor(arr)).replace('1',' 1').replace('2',' 2').replace('3',' 3').replace('4',' 4').replace('5',' 5').replace('6',' 6').replace('7',' 7').replace('8',' 8').replace('9',' 9').replace('10','10'))\n",
    "print(str(numpy.ceil(arr)).replace('1',' 1').replace('2',' 2').replace('3',' 3').replace('4',' 4').replace('5',' 5').replace('6',' 6').replace('7',' 7').replace('8',' 8').replace('9',' 9').replace('10','10'))\n",
    "print(str(numpy.rint(arr)).replace('1',' 1').replace('2',' 2').replace('3',' 3').replace('4',' 4').replace('5',' 5').replace('6',' 6').replace('7',' 7').replace('8',' 8').replace('9',' 9').replace('10','10'))\n"
   ]
  },
  {
   "cell_type": "code",
   "execution_count": null,
   "metadata": {},
   "outputs": [],
   "source": [
    "#Sum and Prod"
   ]
  },
  {
   "cell_type": "code",
   "execution_count": null,
   "metadata": {},
   "outputs": [],
   "source": [
    "import numpy\n",
    "nm = list(map(int,input().split()))\n",
    "arr=[]\n",
    "for _ in range(nm[0]):\n",
    "    arr.append(list(map(int,input().split())))\n",
    "print(numpy.prod(numpy.sum(numpy.array(arr), axis = 0), axis = 0))"
   ]
  },
  {
   "cell_type": "code",
   "execution_count": null,
   "metadata": {},
   "outputs": [],
   "source": [
    "#Mean, Var, and Std"
   ]
  },
  {
   "cell_type": "code",
   "execution_count": null,
   "metadata": {},
   "outputs": [],
   "source": [
    "import numpy as np\n",
    "np.set_printoptions(legacy='1.13', precision=2, sign=' ')\n",
    "nm = list(map(int,input().split()))\n",
    "arr=[]\n",
    "for _ in range(nm[0]):\n",
    "    arr.append(list(map(int,input().split())))\n",
    "arr = np.array(arr)\n",
    "print(np.mean(arr, axis = 1))\n",
    "print(np.var(arr, axis = 0))\n",
    "print(np.std(arr))"
   ]
  },
  {
   "cell_type": "code",
   "execution_count": null,
   "metadata": {},
   "outputs": [],
   "source": [
    "#Dot and Cross"
   ]
  },
  {
   "cell_type": "code",
   "execution_count": null,
   "metadata": {},
   "outputs": [],
   "source": [
    "import numpy as np\n",
    "n=int(input())\n",
    "a=[]\n",
    "b=[]\n",
    "for _ in range(n):\n",
    "    a.append(list(map(int,input().split())))\n",
    "for _ in range(n):\n",
    "    b.append(list(map(int,input().split())))\n",
    "print(np.dot(np.array(a), np.array(b)))"
   ]
  },
  {
   "cell_type": "code",
   "execution_count": null,
   "metadata": {},
   "outputs": [],
   "source": [
    "#Polynomials"
   ]
  },
  {
   "cell_type": "code",
   "execution_count": null,
   "metadata": {},
   "outputs": [],
   "source": [
    "import numpy as np\n",
    "print(np.polyval(list(map(float, input().split())), float(input())))\n",
    "\n",
    "#Linear Algebra\n",
    "import numpy as np\n",
    "np.set_printoptions(legacy=\"1.13\", precision=1)\n",
    "a=[]\n",
    "for _ in range(int(input())):\n",
    "    a.append(list(map(float,input().split())))\n",
    "print(np.linalg.det(np.array(a)))"
   ]
  },
  {
   "cell_type": "code",
   "execution_count": null,
   "metadata": {},
   "outputs": [],
   "source": [
    "#Linear Algebra"
   ]
  },
  {
   "cell_type": "code",
   "execution_count": null,
   "metadata": {},
   "outputs": [],
   "source": [
    "import numpy as np\n",
    "np.set_printoptions(legacy=\"1.13\", precision=1)\n",
    "a=[]\n",
    "for _ in range(int(input())):\n",
    "    a.append(list(map(float,input().split())))\n",
    "print(np.linalg.det(np.array(a)))"
   ]
  },
  {
   "cell_type": "code",
   "execution_count": null,
   "metadata": {},
   "outputs": [],
   "source": [
    "#Birthday Cake Candles"
   ]
  },
  {
   "cell_type": "code",
   "execution_count": null,
   "metadata": {},
   "outputs": [],
   "source": [
    "import math\n",
    "import os\n",
    "import random\n",
    "import re\n",
    "import sys\n",
    "\n",
    "# Complete the birthdayCakeCandles function below.\n",
    "def birthdayCakeCandles(ar):\n",
    "        return ar.count(max(ar))\n",
    "if __name__ == '__main__':\n",
    "    fptr = open(os.environ['OUTPUT_PATH'], 'w')\n",
    "\n",
    "    ar_count = int(input())\n",
    "\n",
    "    ar = list(map(int, input().rstrip().split()))\n",
    "\n",
    "    result = birthdayCakeCandles(ar)\n",
    "\n",
    "    fptr.write(str(result) + '\\n')\n",
    "\n",
    "    fptr.close()"
   ]
  },
  {
   "cell_type": "code",
   "execution_count": null,
   "metadata": {},
   "outputs": [],
   "source": [
    "#Kangaroo"
   ]
  },
  {
   "cell_type": "code",
   "execution_count": null,
   "metadata": {},
   "outputs": [],
   "source": [
    "import math\n",
    "import os\n",
    "import random\n",
    "import re\n",
    "import sys\n",
    "def kangaroo(x1, v1, x2, v2):\n",
    "    if x1==x2 and v1==v2: return \"YES\"\n",
    "    elif x1>x2 and v1<v2 and (x2-x1)%(v1-v2)==0: return \"YES\"\n",
    "    elif x1<x2 and v1>v2 and (x2-x1)%(v1-v2)==0: return \"YES\"\n",
    "    else: return \"NO\"\n",
    "\n",
    "if __name__ == '__main__':\n",
    "    fptr = open(os.environ['OUTPUT_PATH'], 'w')\n",
    "\n",
    "    x1V1X2V2 = input().split()\n",
    "\n",
    "    x1 = int(x1V1X2V2[0])\n",
    "\n",
    "    v1 = int(x1V1X2V2[1])\n",
    "\n",
    "    x2 = int(x1V1X2V2[2])\n",
    "\n",
    "    v2 = int(x1V1X2V2[3])\n",
    "\n",
    "    result = kangaroo(x1, v1, x2, v2)\n",
    "\n",
    "    fptr.write(result + '\\n')\n",
    "\n",
    "    fptr.close()"
   ]
  },
  {
   "cell_type": "code",
   "execution_count": null,
   "metadata": {},
   "outputs": [],
   "source": [
    "#Viral Advertising"
   ]
  },
  {
   "cell_type": "code",
   "execution_count": null,
   "metadata": {},
   "outputs": [],
   "source": [
    "import math\n",
    "import os\n",
    "import random\n",
    "import re\n",
    "import sys\n",
    "def viralAdvertising(n):\n",
    "    count=0\n",
    "    x=5\n",
    "    for _ in range(n):\n",
    "        count+=(x//2)\n",
    "        x=(x//2)*3\n",
    "    return count\n",
    "if __name__ == '__main__':\n",
    "    fptr = open(os.environ['OUTPUT_PATH'], 'w')\n",
    "\n",
    "    n = int(input())\n",
    "\n",
    "    result = viralAdvertising(n)\n",
    "\n",
    "    fptr.write(str(result) + '\\n')\n",
    "\n",
    "    fptr.close()"
   ]
  },
  {
   "cell_type": "code",
   "execution_count": null,
   "metadata": {},
   "outputs": [],
   "source": [
    "#Recursive Digit Sum"
   ]
  },
  {
   "cell_type": "code",
   "execution_count": null,
   "metadata": {},
   "outputs": [],
   "source": [
    "import math\n",
    "import os\n",
    "import random\n",
    "import re\n",
    "import sys\n",
    "def superDigit(n, k):\n",
    "    l = [int(x)*k for x in n]\n",
    "    sup = sum(l)\n",
    "    if sup > 9: return superDigit(str(sup),1)\n",
    "    else: return sup\n",
    "\n",
    "if __name__ == '__main__':\n",
    "    fptr = open(os.environ['OUTPUT_PATH'], 'w')\n",
    "\n",
    "    nk = input().split()\n",
    "\n",
    "    n = nk[0]\n",
    "\n",
    "    k = int(nk[1])\n",
    "\n",
    "    result = superDigit(n, k)\n",
    "\n",
    "    fptr.write(str(result) + '\\n')\n",
    "\n",
    "    fptr.close()"
   ]
  },
  {
   "cell_type": "code",
   "execution_count": null,
   "metadata": {},
   "outputs": [],
   "source": [
    "#Insertion Sort - Part 1"
   ]
  },
  {
   "cell_type": "code",
   "execution_count": null,
   "metadata": {},
   "outputs": [],
   "source": [
    "import math\n",
    "import os\n",
    "import random\n",
    "import re\n",
    "import sys\n",
    "def insertionSort1(n, arr):\n",
    "        k = arr[n-1]\n",
    "        i = n - 2\n",
    "        while i >= 0 and arr[i] > k:\n",
    "            arr[i + 1] = arr[i]\n",
    "            i = i - 1\n",
    "            print(\" \".join(map(str, arr)))\n",
    "        arr[i + 1] = k\n",
    "        print(\" \".join(map(str, arr)))\n",
    "        return 0\n",
    "if __name__ == '__main__':\n",
    "    n = int(input())\n",
    "\n",
    "    arr = list(map(int, input().rstrip().split()))\n",
    "\n",
    "    insertionSort1(n, arr)"
   ]
  },
  {
   "cell_type": "code",
   "execution_count": null,
   "metadata": {},
   "outputs": [],
   "source": [
    "#Insertion Sort - Part 2"
   ]
  },
  {
   "cell_type": "code",
   "execution_count": null,
   "metadata": {},
   "outputs": [],
   "source": [
    "import math\n",
    "import os\n",
    "import random\n",
    "import re\n",
    "import sys\n",
    "def insertionSort2(n, arr):\n",
    "    for j in range(1,n):\n",
    "        k = arr[j]\n",
    "        i = j - 1\n",
    "        while (i >= 0 and arr[i] > k):\n",
    "            arr[i + 1] = arr[i]\n",
    "            i = i - 1\n",
    "        arr[i + 1] = k\n",
    "        print(\" \".join(map(str, arr)))\n",
    "    return 0\n",
    "\n",
    "if __name__ == '__main__':\n",
    "    n = int(input())\n",
    "\n",
    "    arr = list(map(int, input().rstrip().split()))\n",
    "\n",
    "    insertionSort2(n, arr)"
   ]
  }
 ],
 "metadata": {
  "kernelspec": {
   "display_name": "Python 3",
   "language": "python",
   "name": "python3"
  },
  "language_info": {
   "codemirror_mode": {
    "name": "ipython",
    "version": 3
   },
   "file_extension": ".py",
   "mimetype": "text/x-python",
   "name": "python",
   "nbconvert_exporter": "python",
   "pygments_lexer": "ipython3",
   "version": "3.7.1"
  }
 },
 "nbformat": 4,
 "nbformat_minor": 2
}
